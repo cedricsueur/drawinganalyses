{
 "cells": [
  {
   "cell_type": "code",
   "execution_count": null,
   "id": "15ad576e-4132-46c5-bd92-5b63bea19dfe",
   "metadata": {},
   "outputs": [],
   "source": [
    "import os\n",
    "import keras\n",
    "import seaborn\n",
    "import pandas as pd\n",
    "\n",
    "from tqdm import tqdm\n",
    "from keras.models import load_model\n",
    "import tensorflow as tf\n",
    "\n",
    "from tensorflow.keras.preprocessing.image import load_img, img_to_array\n",
    "\n",
    "import numpy as np\n",
    "import scipy\n",
    "from numpy import expand_dims\n",
    "\n",
    "from keras.applications.vgg19 import preprocess_input\n",
    "\n",
    "import matplotlib.pyplot as plt\n",
    "from pathlib import Path\n",
    "import pathlib"
   ]
  },
  {
   "cell_type": "markdown",
   "id": "d1703df5-1549-4527-a939-6773feb426c5",
   "metadata": {},
   "source": [
    "## Importation des dessins"
   ]
  },
  {
   "cell_type": "code",
   "execution_count": null,
   "id": "4bd2992e-2ab8-4870-8345-2685c8c24ad2",
   "metadata": {},
   "outputs": [],
   "source": [
    "# importation des données\n",
    "os.chdir(os.path.expanduser(\"/home/jfalck/PycharmProjects/drawinganalyses\"))\n",
    "LOCAL_DATA_DIR = Path(\"/home/jfalck/PycharmProjects/drawinganalyses/drawinganalyses/data/Humans\")\n",
    "# Dossier de stockages des modeles\n",
    "MODEL_DATA_DIR = Path(\"/home/jfalck/PycharmProjects/drawinganalyses/drawinganalyses/models/Humans\")\n",
    "\n",
    "categories = ['Crèche','PS','MS','GS','CE1','CE2','CM1','CM2','NOV','EXP']\n",
    "#categories.remove('.ipynb_checkpoints')\n",
    "drawings = []\n",
    "labels = []\n",
    "indices = []\n",
    "\n",
    "\n",
    "for folder in os.listdir(LOCAL_DATA_DIR):\n",
    "    if os.path.isdir(os.path.join(LOCAL_DATA_DIR, folder)):\n",
    "        if folder in categories:\n",
    "            for img in os.listdir(os.path.join(LOCAL_DATA_DIR, folder)):\n",
    "                if not img.startswith('.'):\n",
    "                    labels.append(folder)\n",
    "                    indices.append(os.path.join(folder, img))\n",
    "                    img = load_img(os.path.join(LOCAL_DATA_DIR,folder, img), target_size=(224,224,3))\n",
    "                    img = img_to_array(img)\n",
    "                    img = expand_dims(img,axis=0)\n",
    "                    img = preprocess_input(img)\n",
    "                    img = np.array(img)\n",
    "                    img = np.reshape(img, (1,224,224,3))\n",
    "                    drawings.append(img)\n"
   ]
  },
  {
   "cell_type": "code",
   "execution_count": null,
   "id": "6fe583e4-8711-4e08-9d9e-ab6476c0b4df",
   "metadata": {},
   "outputs": [],
   "source": [
    "# Pour chaque modèle couple VS NOV+EXP, on regarde comment sont classifiés les autres groupes\n",
    "\n",
    "# liste de toutes les catégories (sauf adultes)\n",
    "categories = ['Crèche','PS','MS','GS','CE1','CE2','CM1','CM2']\n",
    "\n",
    "for i in tqdm(range(len(categories)-1)):\n",
    "    categories = ['Crèche','PS','MS','GS','CE1','CE2','CM1','CM2']\n",
    "    categories_model = categories[i:(i+2)]\n",
    "    model = load_model(os.path.join(MODEL_DATA_DIR,\n",
    "                       str(categories_model[0] + categories_model[1]),\n",
    "                       str(categories_model[0] + categories_model[1]) + '.h5'))"
   ]
  },
  {
   "cell_type": "code",
   "execution_count": null,
   "id": "844efc38-0f72-4594-918e-7d626bb73490",
   "metadata": {},
   "outputs": [],
   "source": [
    "list(range(len(categories)-1))"
   ]
  },
  {
   "cell_type": "code",
   "execution_count": null,
   "id": "a1a84b5b-2887-418c-8dff-9cec5efc3fd6",
   "metadata": {},
   "outputs": [],
   "source": [
    "categories = ['Crèche','PS','MS','GS','CE1','CE2','CM1','CM2']\n",
    "# Vérifier que pour chaque modèle, valeur proche de 0 = enfants et 1 = adultes\n",
    "# Pour un modèle (par ex CrèchePS vs adultes), on donne tous les dessins CrèchePS et on regarde si les valeurs prédites sont petites\n",
    "for i in tqdm(range(len(categories)-1)):\n",
    "    plt.subplot(3, 3, (i+1)) \n",
    "    categories = ['Crèche','PS','MS','GS','CE1','CE2','CM1','CM2']\n",
    "    categories_model = categories[i:(i+2)]\n",
    "    categories_to_predict = categories_model # on veut préd\n",
    "    predictions = []\n",
    "    predictions_true_label = []\n",
    "    pred_names = []\n",
    "    pred_dict = {category:[] for category in categories_to_predict}\n",
    "    mean_pred = []\n",
    "    sd_pred = []\n",
    "    for category in categories_to_predict: # pour les 2 catégories enfants sur lesquels le modèle a été entrainé\n",
    "        tmp_indices = np.where(np.array(labels)==category)[0] # on extrait les indices des dessins de ces catégories\n",
    "        for idx in tmp_indices: # pour chaque dessin de cette catégorie\n",
    "            # on prédit le groupe\n",
    "            model = load_model(os.path.join(MODEL_DATA_DIR,\n",
    "                       str(categories_model[0] + categories_model[1]),\n",
    "                       str(categories_model[0] + categories_model[1]) + '.h5'))\n",
    "            tmp_pred = model.predict(drawings[idx])\n",
    "            pred_dict[category].append(tmp_pred)\n",
    "            # on rajoute la valeur de la prédiction dans une autre liste, ainsi que le vrai label, et le nom (pour retrouver le dessinateur)\n",
    "            predictions.append(tmp_pred[0][0]) # on rajoute la valeur de la prédiction pour ce dessin\n",
    "            predictions_true_label.append(category) # on rajoute le vrai label de ce dessin\n",
    "    plt.title(categories_to_predict)\n",
    "    plt.hist(predictions)"
   ]
  },
  {
   "cell_type": "code",
   "execution_count": null,
   "id": "63585589-c1a1-4c2b-a147-6bbc98a34133",
   "metadata": {
    "scrolled": true
   },
   "outputs": [],
   "source": [
    "# Vérifier que pour chaque modèle, valeur proche de 0 = enfants et 1 = adultes\n",
    "# Pour un modèle (par ex CrèchePS vs adultes), on donne tous les dessins CrèchePS et on regarde si les valeurs prédites sont petites\n",
    "for i in tqdm(range(len(['Crèche','PS','MS','GS','CE1','CE2','CM1','CM2'])-1)):\n",
    "    plt.subplot(3, 3, (i+1)) \n",
    "    categories = ['Crèche','PS','MS','GS','CE1','CE2','CM1','CM2','NOV','EXP']\n",
    "    categories_model = categories[i:(i+2)]\n",
    "    categories_to_predict = ['NOV','EXP'] # on veut préd\n",
    "    predictions = []\n",
    "    predictions_true_label = []\n",
    "    pred_names = []\n",
    "    pred_dict = {category:[] for category in categories_to_predict}\n",
    "    mean_pred = []\n",
    "    sd_pred = []\n",
    "    for category in categories_to_predict: # pour les 2 catégories enfants sur lesquels le modèle a été entrainé\n",
    "        tmp_indices = np.where(np.array(labels)==category)[0] # on extrait les indices des dessins de ces catégories\n",
    "        for idx in tmp_indices: # pour chaque dessin de cette catégorie\n",
    "            # on prédit le groupe\n",
    "            model = load_model(os.path.join(MODEL_DATA_DIR,\n",
    "                       str(categories_model[0] + categories_model[1]),\n",
    "                       str(categories_model[0] + categories_model[1]) + '.h5'))\n",
    "            tmp_pred = model.predict(drawings[idx])\n",
    "            pred_dict[category].append(tmp_pred)\n",
    "            # on rajoute la valeur de la prédiction dans une autre liste, ainsi que le vrai label, et le nom (pour retrouver le dessinateur)\n",
    "            predictions.append(tmp_pred[0][0]) # on rajoute la valeur de la prédiction pour ce dessin\n",
    "            predictions_true_label.append(category) # on rajoute le vrai label de ce dessin\n",
    "    plt.title(categories_model)\n",
    "    plt.hist(predictions)"
   ]
  },
  {
   "cell_type": "code",
   "execution_count": null,
   "id": "af83b2c3-8b3d-49f9-93cf-693ae0697460",
   "metadata": {},
   "outputs": [],
   "source": [
    "#CrèchePS : adultes = 1\n",
    "#PSMS : adultes = 0\n",
    "#MSGS : adultes = 1\n",
    "#GSCE1 : adultes = 1\n",
    "#CE1CE2 : adultes = 1\n",
    "#CE2CM1 : adultes = 1\n",
    "#CM1CM2 : adultes = 1"
   ]
  },
  {
   "cell_type": "code",
   "execution_count": null,
   "id": "768ff7bf-5fba-42da-b041-44485c4d8adc",
   "metadata": {
    "tags": []
   },
   "outputs": [],
   "source": [
    "# Pour chaque modèle couple VS NOV+EXP, on regarde comment sont classifiés les autres groupes\n",
    "\n",
    "# liste de toutes les catégories (sauf adultes)\n",
    "categories = ['Crèche','PS','MS','GS','CE1','CE2','CM1','CM2']\n",
    "\n",
    "# création du dataframe qui contiendra les résultats\n",
    "categories_couple = []\n",
    "for j in range(len(categories)-1):\n",
    "    categories_couple.append(categories[j]+categories[j+1])\n",
    "matrix_pred = np.full((len(categories)-1,len(categories)),np.NaN)\n",
    "matrix_pred = pd.DataFrame(matrix_pred, columns=categories, index=categories_couple)\n",
    "print(matrix_pred)\n",
    "\n",
    "for i in tqdm(range(len(categories)-1)):\n",
    "    categories = ['Crèche','PS','MS','GS','CE1','CE2','CM1','CM2']\n",
    "    categories_model = categories[i:(i+2)]\n",
    "    del categories[i:(i+2)]\n",
    "    categories_to_predict = categories\n",
    "\n",
    "    predictions = []\n",
    "    predictions_true_label = []\n",
    "    pred_names = []\n",
    "    pred_dict = {category:[] for category in categories_to_predict}\n",
    "    mean_pred = []\n",
    "    sd_pred = []\n",
    "\n",
    "    model = load_model((os.path.join(MODEL_DATA_DIR,\n",
    "                       str(categories_model[0] + categories_model[1]),\n",
    "                       str(categories_model[0] + categories_model[1]) + '.h5')))\n",
    "    for category in categories_to_predict: # pour chaque catégorie\n",
    "        tmp_indices = np.where(np.array(labels)==category)[0]\n",
    "        for idx in tmp_indices: # pour chaque dessin de cette catégorie\n",
    "            # on prédit le groupe\n",
    "            tmp_pred = model.predict(drawings[idx])\n",
    "            # on rajoute la valeur de la prédiction dans le dictionnaire\n",
    "            pred_dict[category].append(tmp_pred)\n",
    "            # on rajoute la valeur de la prédiction dans une autre liste, ainsi que le vrai label, et le nom (pour retrouver le dessinateur)\n",
    "            predictions.append(tmp_pred[0][0]) # on rajoute la valeur de la prédiction pour ce dessin\n",
    "            predictions_true_label.append(category) # on rajoute le vrai label de ce dessin\n",
    "            # on prend le chemin du dessin pour extraire le nom du dessinateur\n",
    "            path_name = indices[idx]\n",
    "            pred_names.append(path_name.split('/')[1].split('.')[0])\n",
    "        mean_pred.append(np.mean(pred_dict[category]))\n",
    "        sd_pred.append(np.std(pred_dict[category]))\n",
    "        k=0\n",
    "        for categorie_to_predict in categories_to_predict:\n",
    "            print(matrix_pred.head(5))\n",
    "            print(\"Cat: \" , category)\n",
    "            print(\"Cat_predi : \" , categorie_to_predict)\n",
    "            print(\"indice col : \", matrix_pred.columns.get_loc(categorie_to_predict))\n",
    "            print(\"indice: \", i)\n",
    "            print(\"~~~~~~~~~~~~~~~~~~~~~~~~~~~~~~~~~\")\n",
    "            print(mean_pred)\n",
    "            if k>=len(mean_pred):\n",
    "                matrix_pred.iloc[i, matrix_pred.columns.get_loc(categorie_to_predict)] = 0\n",
    "            else:\n",
    "                matrix_pred.iloc[i, matrix_pred.columns.get_loc(categorie_to_predict)] = mean_pred[k]\n",
    "            k+=1"
   ]
  },
  {
   "cell_type": "code",
   "execution_count": null,
   "id": "99c32162-12e3-4652-859a-170f35bc181b",
   "metadata": {},
   "outputs": [],
   "source": [
    "matrix_pred.iloc[1] = 1-matrix_pred.iloc[1]\n",
    "# comme le modèle PSMS vs adultes est le seul pour lequel adultes=0 et enfants=1, on fait 1-pred pour avoir adultes=1 et enfants=0"
   ]
  },
  {
   "cell_type": "code",
   "execution_count": null,
   "id": "d5dfce14-c0bf-450d-a020-5367ac31d202",
   "metadata": {},
   "outputs": [],
   "source": [
    "seaborn.heatmap(matrix_pred,annot=True)"
   ]
  },
  {
   "cell_type": "code",
   "execution_count": null,
   "id": "713d70af-b8a8-422b-88a6-dc7d8e13874f",
   "metadata": {},
   "outputs": [],
   "source": [
    "import seaborn as sns\n",
    "\n",
    "#corr = df2.corr() #your dataframe\n",
    "\n",
    "# figsize=(6, 6) control width and height\n",
    "# dpi = 600, I \n",
    "plt.figure(figsize=(6, 6), \n",
    "           dpi = 600) \n",
    " \n",
    "# parameter annot_kws={\"size\": 8} control corr values font size\n",
    "sns.heatmap(matrix_pred, cmap=\"Blues\", annot=True, annot_kws={\"size\": 8})"
   ]
  },
  {
   "cell_type": "code",
   "execution_count": null,
   "id": "1c77b28b-1bda-4bad-bfef-9352f1d3f7c5",
   "metadata": {
    "scrolled": true
   },
   "outputs": [],
   "source": [
    "plt.errorbar(x=np.arange(len(categories_to_predict)), y=mean_pred, yerr=sd_pred)\n",
    "plt.xticks(np.arange(len(categories_to_predict)),categories_to_predict)\n",
    "#plt.yticks(np.arange(2),['CrèchePS','NOVEXP'])\n",
    "plt.title('Predictions of drawings depending \\non the age category', pad = 15)\n",
    "plt.xlabel('Age category', labelpad = 10)\n",
    "plt.ylabel('Mean prediction value', labelpad = -40)\n",
    "plt.show()"
   ]
  },
  {
   "cell_type": "code",
   "execution_count": null,
   "id": "0bb96f6a-7eab-4e01-abff-a40dc87f526e",
   "metadata": {},
   "outputs": [],
   "source": []
  },
  {
   "cell_type": "code",
   "execution_count": null,
   "id": "0b61c77a-b34e-42b8-8757-d67057814541",
   "metadata": {},
   "outputs": [],
   "source": [
    "pred_accuracy = {}\n",
    "sorted_categories = ['Chimpanzés', 'MS', 'GS', 'CE1', 'CE2', 'CM1', 'CM2']\n",
    "for sorted_category in sorted_categories:\n",
    "    np.where(np.array(predictions_true_label) == sorted_category)[0]"
   ]
  },
  {
   "cell_type": "code",
   "execution_count": null,
   "id": "43133d55",
   "metadata": {},
   "outputs": [],
   "source": []
  }
 ],
 "metadata": {
  "kernelspec": {
   "display_name": "local-venv",
   "language": "python",
   "name": "local-venv"
  },
  "language_info": {
   "codemirror_mode": {
    "name": "ipython",
    "version": 3
   },
   "file_extension": ".py",
   "mimetype": "text/x-python",
   "name": "python",
   "nbconvert_exporter": "python",
   "pygments_lexer": "ipython3",
   "version": "3.10.13"
  }
 },
 "nbformat": 4,
 "nbformat_minor": 5
}
