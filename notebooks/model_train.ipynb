{
 "cells": [
  {
   "cell_type": "code",
   "execution_count": 1,
   "id": "31a04986-5af2-4603-9799-a430d7f492a9",
   "metadata": {},
   "outputs": [
    {
     "name": "stderr",
     "output_type": "stream",
     "text": [
      "2023-09-18 11:02:32.416752: I tensorflow/core/util/port.cc:110] oneDNN custom operations are on. You may see slightly different numerical results due to floating-point round-off errors from different computation orders. To turn them off, set the environment variable `TF_ENABLE_ONEDNN_OPTS=0`.\n",
      "2023-09-18 11:02:32.441121: I tensorflow/tsl/cuda/cudart_stub.cc:28] Could not find cuda drivers on your machine, GPU will not be used.\n",
      "2023-09-18 11:02:32.604535: I tensorflow/tsl/cuda/cudart_stub.cc:28] Could not find cuda drivers on your machine, GPU will not be used.\n",
      "2023-09-18 11:02:32.605671: I tensorflow/core/platform/cpu_feature_guard.cc:182] This TensorFlow binary is optimized to use available CPU instructions in performance-critical operations.\n",
      "To enable the following instructions: AVX2 AVX512F AVX512_VNNI FMA, in other operations, rebuild TensorFlow with the appropriate compiler flags.\n",
      "2023-09-18 11:02:33.354261: W tensorflow/compiler/tf2tensorrt/utils/py_utils.cc:38] TF-TRT Warning: Could not find TensorRT\n"
     ]
    }
   ],
   "source": [
    "import tensorflow as tf\n",
    "import numpy as np\n",
    "import pandas as pd\n",
    "import keras\n",
    "import shutil\n",
    "import pathlib\n",
    "from collections import Counter\n",
    "\n",
    "from sklearn.decomposition import PCA, SparsePCA, TruncatedSVD, IncrementalPCA\n",
    "from scipy.sparse import csr_matrix, lil_matrix\n",
    "import scipy\n",
    "from itertools import chain\n",
    "import statistics\n",
    "from sklearn.utils import class_weight\n",
    "from sklearn.pipeline import make_pipeline\n",
    "from sklearn import svm, preprocessing\n",
    "from sklearn.preprocessing import StandardScaler, normalize, LabelEncoder\n",
    "from tensorflow.keras.preprocessing.image import ImageDataGenerator, load_img, img_to_array\n",
    "from numpy import expand_dims\n",
    "\n",
    "from tensorflow.keras.utils import to_categorical\n",
    "from tensorflow import concat\n",
    "from sklearn.model_selection import train_test_split, cross_val_score\n",
    "from sklearn.metrics import accuracy_score\n",
    "from sklearn.decomposition import PCA\n",
    "import matplotlib.pyplot as plt\n",
    "import random\n",
    "import tensorflow\n",
    "import os\n",
    "from tensorflow.keras.models import Sequential, load_model, save_model\n",
    "from tensorflow.keras import layers, Input\n",
    "from tensorflow.keras.layers import Rescaling, Conv2D, MaxPooling2D, Dropout, Flatten, Dense, Activation, GlobalAveragePooling2D, GlobalMaxPooling2D, BatchNormalization\n",
    "from tensorflow.keras import applications\n",
    "from tensorflow.keras.preprocessing import image_dataset_from_directory\n",
    "from tensorflow.keras import optimizers\n",
    "from tensorflow.keras.applications import VGG16, VGG19\n",
    "from tensorflow.keras.models import Model\n",
    "from tensorflow.keras import regularizers\n",
    "from tensorflow.keras.callbacks import ReduceLROnPlateau\n",
    "from keras.applications.vgg19 import preprocess_input\n",
    "from tensorflow.image import rgb_to_grayscale, grayscale_to_rgb\n",
    "from tensorflow import tile\n",
    "from tqdm import tqdm\n",
    "from sklearn.pipeline import make_pipeline\n",
    "from sklearn.preprocessing import StandardScaler\n",
    "from sklearn.svm import SVC\n",
    "import keras_tuner as kt \n",
    "image_size = 224\n",
    "input_shape = (image_size, image_size, 3)"
   ]
  },
  {
   "cell_type": "markdown",
   "id": "104a707c",
   "metadata": {},
   "source": [
    "## Configuration des dossiers"
   ]
  },
  {
   "cell_type": "code",
   "execution_count": 2,
   "id": "d5b8a98f",
   "metadata": {},
   "outputs": [],
   "source": [
    "from pathlib import Path\n",
    "# importation des données\n",
    "os.chdir(os.path.expanduser(\"/home/jfalck/PycharmProjects/drawinganalyses\"))\n",
    "LOCAL_DATA_DIR = Path(\"/home/jfalck/PycharmProjects/drawinganalyses/drawinganalyses/data/Humans\")\n",
    "\n",
    "# Dossier de stockages des modeles\n",
    "MODEL_DATA_DIR = Path(\"/home/jfalck/PycharmProjects/drawinganalyses/drawinganalyses/models/Humans\")\n"
   ]
  },
  {
   "cell_type": "markdown",
   "id": "9df0e26d-8a87-4037-a3c2-818f4e7b20d2",
   "metadata": {},
   "source": [
    "## Importation des données"
   ]
  },
  {
   "cell_type": "code",
   "execution_count": 3,
   "id": "63b8f608-ddce-4b53-b9fc-b8e51119bdb7",
   "metadata": {},
   "outputs": [
    {
     "name": "stderr",
     "output_type": "stream",
     "text": [
      "\r",
      "  0%|                                                                                                                                                                                                             | 0/10 [00:00<?, ?it/s]"
     ]
    },
    {
     "name": "stdout",
     "output_type": "stream",
     "text": [
      "Chargement des images du dossier /home/jfalck/PycharmProjects/drawinganalyses/drawinganalyses/data/Humans/NOV\n"
     ]
    },
    {
     "name": "stderr",
     "output_type": "stream",
     "text": [
      "\r",
      " 10%|███████████████████▋                                                                                                                                                                                 | 1/10 [00:00<00:04,  2.20it/s]"
     ]
    },
    {
     "name": "stdout",
     "output_type": "stream",
     "text": [
      "Chargement des images du dossier /home/jfalck/PycharmProjects/drawinganalyses/drawinganalyses/data/Humans/CE1\n"
     ]
    },
    {
     "name": "stderr",
     "output_type": "stream",
     "text": [
      "\r",
      " 20%|███████████████████████████████████████▍                                                                                                                                                             | 2/10 [00:00<00:03,  2.08it/s]"
     ]
    },
    {
     "name": "stdout",
     "output_type": "stream",
     "text": [
      "Chargement des images du dossier /home/jfalck/PycharmProjects/drawinganalyses/drawinganalyses/data/Humans/EXP\n"
     ]
    },
    {
     "name": "stderr",
     "output_type": "stream",
     "text": [
      "\r",
      " 30%|███████████████████████████████████████████████████████████                                                                                                                                          | 3/10 [00:01<00:03,  1.95it/s]"
     ]
    },
    {
     "name": "stdout",
     "output_type": "stream",
     "text": [
      "Chargement des images du dossier /home/jfalck/PycharmProjects/drawinganalyses/drawinganalyses/data/Humans/Crèche\n"
     ]
    },
    {
     "name": "stderr",
     "output_type": "stream",
     "text": [
      "\r",
      " 40%|██████████████████████████████████████████████████████████████████████████████▊                                                                                                                      | 4/10 [00:01<00:02,  2.08it/s]"
     ]
    },
    {
     "name": "stdout",
     "output_type": "stream",
     "text": [
      "Chargement des images du dossier /home/jfalck/PycharmProjects/drawinganalyses/drawinganalyses/data/Humans/GS\n"
     ]
    },
    {
     "name": "stderr",
     "output_type": "stream",
     "text": [
      "\r",
      " 50%|██████████████████████████████████████████████████████████████████████████████████████████████████▌                                                                                                  | 5/10 [00:02<00:02,  2.09it/s]"
     ]
    },
    {
     "name": "stdout",
     "output_type": "stream",
     "text": [
      "Chargement des images du dossier /home/jfalck/PycharmProjects/drawinganalyses/drawinganalyses/data/Humans/CM2\n"
     ]
    },
    {
     "name": "stderr",
     "output_type": "stream",
     "text": [
      "\r",
      " 60%|██████████████████████████████████████████████████████████████████████████████████████████████████████████████████████▏                                                                              | 6/10 [00:02<00:01,  2.04it/s]"
     ]
    },
    {
     "name": "stdout",
     "output_type": "stream",
     "text": [
      "Chargement des images du dossier /home/jfalck/PycharmProjects/drawinganalyses/drawinganalyses/data/Humans/PS\n"
     ]
    },
    {
     "name": "stderr",
     "output_type": "stream",
     "text": [
      "\r",
      " 70%|█████████████████████████████████████████████████████████████████████████████████████████████████████████████████████████████████████████▉                                                           | 7/10 [00:03<00:01,  2.03it/s]"
     ]
    },
    {
     "name": "stdout",
     "output_type": "stream",
     "text": [
      "Chargement des images du dossier /home/jfalck/PycharmProjects/drawinganalyses/drawinganalyses/data/Humans/CE2\n"
     ]
    },
    {
     "name": "stderr",
     "output_type": "stream",
     "text": [
      "\r",
      " 80%|█████████████████████████████████████████████████████████████████████████████████████████████████████████████████████████████████████████████████████████████▌                                       | 8/10 [00:03<00:00,  2.16it/s]"
     ]
    },
    {
     "name": "stdout",
     "output_type": "stream",
     "text": [
      "Chargement des images du dossier /home/jfalck/PycharmProjects/drawinganalyses/drawinganalyses/data/Humans/CM1\n"
     ]
    },
    {
     "name": "stderr",
     "output_type": "stream",
     "text": [
      "\r",
      " 90%|█████████████████████████████████████████████████████████████████████████████████████████████████████████████████████████████████████████████████████████████████████████████████▎                   | 9/10 [00:04<00:00,  2.13it/s]"
     ]
    },
    {
     "name": "stdout",
     "output_type": "stream",
     "text": [
      "Chargement des images du dossier /home/jfalck/PycharmProjects/drawinganalyses/drawinganalyses/data/Humans/MS\n"
     ]
    },
    {
     "name": "stderr",
     "output_type": "stream",
     "text": [
      "100%|████████████████████████████████████████████████████████████████████████████████████████████████████████████████████████████████████████████████████████████████████████████████████████████████████| 10/10 [00:04<00:00,  2.09it/s]\n"
     ]
    }
   ],
   "source": [
    "\n",
    "\n",
    "categories = []\n",
    "for folder in os.listdir(LOCAL_DATA_DIR):\n",
    "    if os.path.isdir(os.path.join(LOCAL_DATA_DIR, folder)):\n",
    "        categories.append(os.path.join(LOCAL_DATA_DIR, folder))\n",
    "\n",
    "drawings = []\n",
    "labels = []\n",
    "indices = []\n",
    "\n",
    "for folder in tqdm(categories):\n",
    "    labels.append(pathlib.PurePath(folder).name)\n",
    "    print(\"Chargement des images du dossier\" , folder)\n",
    "    for img in os.listdir(folder):\n",
    "            if not img.startswith('.'):\n",
    "                indices.append(os.path.join(folder, img))\n",
    "                img = load_img(os.path.join(folder, img), target_size=(224,224,3))\n",
    "                img = img_to_array(img)\n",
    "                img = expand_dims(img,axis=0)\n",
    "                img = preprocess_input(img)\n",
    "                img = np.array(img)\n",
    "                img = np.reshape(img, (224,224,3))\n",
    "                drawings.append(img)"
   ]
  },
  {
   "cell_type": "markdown",
   "id": "09e73745-8171-4e3e-a887-94f4923fab24",
   "metadata": {
    "tags": []
   },
   "source": [
    "## Afficher une image aléatoire"
   ]
  },
  {
   "cell_type": "code",
   "execution_count": 4,
   "id": "66c3daaa-86bb-4ac5-bd99-a690448d7dbe",
   "metadata": {
    "tags": []
   },
   "outputs": [
    {
     "name": "stderr",
     "output_type": "stream",
     "text": [
      "Clipping input data to the valid range for imshow with RGB data ([0..1] for floats or [0..255] for integers).\n"
     ]
    },
    {
     "data": {
      "text/plain": [
       "<matplotlib.image.AxesImage at 0x7fcd51a88580>"
      ]
     },
     "execution_count": 4,
     "metadata": {},
     "output_type": "execute_result"
    },
    {
     "data": {
      "image/png": "[encoded data removed]",
      "text/plain": [
       "<Figure size 640x480 with 1 Axes>"
      ]
     },
     "metadata": {},
     "output_type": "display_data"
    }
   ],
   "source": [
    "import random\n",
    "\n",
    "random_index_category = random.randint(0, len(categories)-1)\n",
    "random_index_drawing = random.randint(0, len(os.listdir(os.path.join(LOCAL_DATA_DIR,categories[random_index_category])))-1)\n",
    "random_drawing_name = os.listdir(os.path.join(LOCAL_DATA_DIR,categories[random_index_category]))[random_index_drawing]\n",
    "random_drawing = os.path.join(LOCAL_DATA_DIR,categories[random_index_category],\n",
    "                              random_drawing_name)\n",
    "random_img = load_img(random_drawing, target_size=(224,224,3))\n",
    "random_img = img_to_array(random_img)\n",
    "random_img = expand_dims(random_img,axis=0)\n",
    "random_img = preprocess_input(random_img)\n",
    "random_img = np.array(random_img)\n",
    "random_img = np.reshape(random_img,(224,224,3))\n",
    "plt.imshow(random_img)\n"
   ]
  },
  {
   "cell_type": "markdown",
   "id": "ccd5792b-7d56-4a48-b0a3-06c8c905a479",
   "metadata": {
    "tags": []
   },
   "source": [
    "## Preprocessing + modèle"
   ]
  },
  {
   "cell_type": "markdown",
   "id": "abd9f4b7-7554-4b3f-8f81-e0578567ab13",
   "metadata": {
    "tags": []
   },
   "source": [
    "##### drawings_new = Array des dessins de la classification en question\n",
    "##### labels_names = Nom de la classe d'appartenance de chaque dessin (Crèche, PS, etc)\n",
    "##### labels_final = Nom de la classe utilisée pour la classification (jeune,...)"
   ]
  },
  {
   "cell_type": "code",
   "execution_count": 5,
   "id": "3404d704-7e9a-4c84-a5e5-65dbd1299450",
   "metadata": {},
   "outputs": [
    {
     "name": "stdout",
     "output_type": "stream",
     "text": [
      "['/home/jfalck/PycharmProjects/drawinganalyses/drawinganalyses/data/Humans/NOV', '/home/jfalck/PycharmProjects/drawinganalyses/drawinganalyses/data/Humans/CE1', '/home/jfalck/PycharmProjects/drawinganalyses/drawinganalyses/data/Humans/EXP', '/home/jfalck/PycharmProjects/drawinganalyses/drawinganalyses/data/Humans/Crèche', '/home/jfalck/PycharmProjects/drawinganalyses/drawinganalyses/data/Humans/GS', '/home/jfalck/PycharmProjects/drawinganalyses/drawinganalyses/data/Humans/CM2', '/home/jfalck/PycharmProjects/drawinganalyses/drawinganalyses/data/Humans/PS', '/home/jfalck/PycharmProjects/drawinganalyses/drawinganalyses/data/Humans/CE2', '/home/jfalck/PycharmProjects/drawinganalyses/drawinganalyses/data/Humans/CM1', '/home/jfalck/PycharmProjects/drawinganalyses/drawinganalyses/data/Humans/MS']\n"
     ]
    }
   ],
   "source": [
    "print(categories)"
   ]
  },
  {
   "cell_type": "code",
   "execution_count": 6,
   "id": "570899c0",
   "metadata": {},
   "outputs": [
    {
     "name": "stdout",
     "output_type": "stream",
     "text": [
      "['NOV', 'CE1', 'EXP', 'Crèche', 'GS', 'CM2', 'PS', 'CE2', 'CM1', 'MS']\n"
     ]
    }
   ],
   "source": [
    "print(labels)"
   ]
  },
  {
   "cell_type": "markdown",
   "id": "9a41d646-1d2e-4742-b9ce-f04d4c552f05",
   "metadata": {
    "tags": []
   },
   "source": [
    "### Séparations en catégories à préciser"
   ]
  },
  {
   "cell_type": "code",
   "execution_count": 7,
   "id": "0562a31f-e891-4894-9925-8703bdf0fa5d",
   "metadata": {
    "tags": []
   },
   "outputs": [],
   "source": [
    "def preprocess_data(groupes):\n",
    "    nb_groupes = len(groupes)\n",
    "\n",
    "    labels_groupes = {}\n",
    "    index_groupes = {}\n",
    "\n",
    "    for groupe in list(groupes.keys()): # pour chaque groupe\n",
    "        labels_groupes[groupe] = [labels[j] for j,x in enumerate(labels) if x in groupes[groupe]]\n",
    "        index_groupes[groupe] = [j for j,x in enumerate(labels) if x in groupes[groupe]]\n",
    "\n",
    "    index_length = [len(index_groupes[groupe]) for groupe in groupes]\n",
    "\n",
    "    for groupe, nb_dessins in zip(list(groupes.keys()), index_length):\n",
    "        print(f'{groupe} : {nb_dessins}')\n",
    "\n",
    "    labels_index = sorted(sum(list(index_groupes.values()), []))\n",
    "\n",
    "    labels_names = []\n",
    "    drawings_new = []\n",
    "    for i in tqdm(labels_index):\n",
    "        labels_names.append(labels[i])\n",
    "        drawings_new.append(drawings[i])\n",
    "\n",
    "    labels_final = [''] * len(labels_names)\n",
    "\n",
    "    for i in range(len(labels_final)):\n",
    "        for grp_index in range(len(list(groupes.keys()))):\n",
    "            if labels_names[i] in list(groupes.values())[grp_index]:\n",
    "                labels_final[i] = list(groupes.keys())[grp_index]\n",
    "    return drawings_new, labels_final, labels_names"
   ]
  },
  {
   "cell_type": "code",
   "execution_count": 8,
   "id": "71819f0f-497e-4e43-83ca-3f35560bb6e1",
   "metadata": {},
   "outputs": [
    {
     "name": "stdout",
     "output_type": "stream",
     "text": [
      "CrecheGS : 4\n",
      "CE1CM2 : 4\n"
     ]
    },
    {
     "name": "stderr",
     "output_type": "stream",
     "text": [
      "100%|██████████████████████████████████████████████████████████████████████████████████████████████████████████████████████████████████████████████████████████████████████████████████████████████████| 8/8 [00:00<00:00, 203360.19it/s]\n"
     ]
    }
   ],
   "source": [
    "groupes = {'CrecheGS' : ['Crèche','PS','MS','GS'],'CE1CM2' : ['CE1','CE2','CM1','CM2']}\n",
    "drawings_new, labels_final, labels_names = preprocess_data(groupes)"
   ]
  },
  {
   "cell_type": "markdown",
   "id": "ea305804-6e43-4744-bdc4-f78d1b5ba44d",
   "metadata": {
    "tags": []
   },
   "source": [
    "#### Afficher une image aléatoire"
   ]
  },
  {
   "cell_type": "code",
   "execution_count": 9,
   "id": "fce9d1d7-524c-489b-a160-6de3e5c4e8ba",
   "metadata": {
    "tags": []
   },
   "outputs": [
    {
     "ename": "IndexError",
     "evalue": "list index out of range",
     "output_type": "error",
     "traceback": [
      "\u001b[0;31m---------------------------------------------------------------------------\u001b[0m",
      "\u001b[0;31mIndexError\u001b[0m                                Traceback (most recent call last)",
      "Cell \u001b[0;32mIn[9], line 2\u001b[0m\n\u001b[1;32m      1\u001b[0m i \u001b[38;5;241m=\u001b[39m random\u001b[38;5;241m.\u001b[39mrandint(\u001b[38;5;241m0\u001b[39m,\u001b[38;5;28mlen\u001b[39m(labels_names))\n\u001b[0;32m----> 2\u001b[0m \u001b[38;5;28mprint\u001b[39m(\u001b[38;5;124m'\u001b[39m\u001b[38;5;124mCatégorie du dessinateur : \u001b[39m\u001b[38;5;124m'\u001b[39m \u001b[38;5;241m+\u001b[39m \u001b[43mlabels_names\u001b[49m\u001b[43m[\u001b[49m\u001b[43mi\u001b[49m\u001b[43m]\u001b[49m \u001b[38;5;241m+\u001b[39m \u001b[38;5;124m'\u001b[39m\u001b[38;5;124m (\u001b[39m\u001b[38;5;124m'\u001b[39m \u001b[38;5;241m+\u001b[39m labels_final[i] \u001b[38;5;241m+\u001b[39m \u001b[38;5;124m'\u001b[39m\u001b[38;5;124m)\u001b[39m\u001b[38;5;124m'\u001b[39m)\n\u001b[1;32m      3\u001b[0m plt\u001b[38;5;241m.\u001b[39mimshow(drawings_new[i])\n",
      "\u001b[0;31mIndexError\u001b[0m: list index out of range"
     ]
    }
   ],
   "source": [
    "i = random.randint(0,len(labels_names))\n",
    "print('Catégorie du dessinateur : ' + labels_names[i] + ' (' + labels_final[i] + ')')\n",
    "plt.imshow(drawings_new[i])"
   ]
  },
  {
   "cell_type": "markdown",
   "id": "d9ea9a0d-3fa1-4ee8-bafd-8af643e11d95",
   "metadata": {
    "jp-MarkdownHeadingCollapsed": true,
    "tags": []
   },
   "source": [
    "### Toutes les catégories humains (Crèche, PS, MS,..., Nov, Exp) "
   ]
  },
  {
   "cell_type": "code",
   "execution_count": null,
   "id": "3844a03f-8294-4891-92a0-82ff726d4d97",
   "metadata": {},
   "outputs": [],
   "source": [
    "categories_humains = ['Crèche','PS','MS','GS','CE1','CE2','CM1','CM2','NOV','EXP']\n",
    "\n",
    "labels_final = []\n",
    "drawings_new = []\n",
    "\n",
    "for i in range(len(labels)):\n",
    "    if labels[i] in categories_humains:\n",
    "        drawings_new.append(drawings[i])\n",
    "        labels_final.append(labels[i])"
   ]
  },
  {
   "cell_type": "markdown",
   "id": "cb80d00a-d3bf-4b0a-986d-5069ce57489b",
   "metadata": {
    "tags": []
   },
   "source": [
    "### 2 groupes d'enfants VS adultes (en décalant à chaque fois chez les enfants)"
   ]
  },
  {
   "cell_type": "markdown",
   "id": "c8900d7f-117f-400e-b129-481a3fa7d474",
   "metadata": {
    "tags": []
   },
   "source": [
    "#### Optimisation bayésienne : meilleurs hyperparamètres pour chaque modèle"
   ]
  },
  {
   "cell_type": "code",
   "execution_count": null,
   "id": "d8054d37-2a34-459c-932e-c5bb6cc01aba",
   "metadata": {},
   "outputs": [],
   "source": [
    "def plot_model_history(model_history, accuracy='accuracy', val_accuracy='val_accuracy'):\n",
    "    fig, axs = plt.subplots(1,2,figsize=(15,5))\n",
    "    axs[0].plot(range(1,len(model_history.history[accuracy])+1),model_history.history[accuracy])\n",
    "    axs[0].plot(range(1,len(model_history.history[val_accuracy])+1),model_history.history[val_accuracy])\n",
    "    #axs[0].set_xticks(np.arange(1,len(model_history.history[accuracy])+1),len(model_history.history[accuracy])/10)\n",
    "    axs[0].legend(['train', 'val'], loc='best')\n",
    "    axs[1].plot(range(1,len(model_history.history['loss'])+1),model_history.history['loss'])\n",
    "    axs[1].plot(range(1,len(model_history.history['val_loss'])+1),model_history.history['val_loss'])\n",
    "    axs[1].set_title('Model Loss')\n",
    "    axs[1].set_ylabel('Loss')\n",
    "    axs[1].set_xlabel('Epoch')\n",
    "    #axs[1].set_xticks(np.arange(1,len(model_history.history['loss'])+1),len(model_history.history['loss'])/10)\n",
    "    axs[1].legend(['train', 'val'], loc='best')\n",
    "    plt.savefig(os.path.join(MODEL_DATA_DIR, str(enfants_groupe[0] + enfants_groupe[1]), 'curves_' + str(enfants_groupe[0] + enfants_groupe[1]) + '.png'))\n",
    "    plt.show()"
   ]
  },
  {
   "cell_type": "markdown",
   "id": "2687e8ee-d7e4-47e6-a97e-942969af27d9",
   "metadata": {
    "tags": []
   },
   "source": [
    "##### /!\\ lancer ce code fait tourner les modèles"
   ]
  },
  {
   "cell_type": "code",
   "execution_count": 12,
   "id": "dd5cad9a-14a8-42bb-ba28-66acf560f52c",
   "metadata": {
    "tags": []
   },
   "outputs": [
    {
     "name": "stdout",
     "output_type": "stream",
     "text": [
      "Trial 50 Complete [00h 00m 02s]\n",
      "val_loss: 0.0\n",
      "\n",
      "Best val_loss So Far: 0.0\n",
      "Total elapsed time: 00h 01m 02s\n",
      "INFO:tensorflow:Oracle triggered exit\n",
      "{'batch_size': 32, 'pool_value': 'max', 'dropout': 0.0, 'num_layers': 3, 'BatchNorm': 0, 'units_0': 320, 'lr': 0.00902203935993642, 'units_1': 224, 'units_2': 416}\n",
      "Epoch 1/15\n",
      "1/1 [==============================] - 1s 768ms/step - loss: 4.5010 - accuracy: 0.3333 - val_loss: 574.0606 - val_accuracy: 0.0000e+00\n",
      "Epoch 2/15\n",
      "1/1 [==============================] - 0s 240ms/step - loss: 342.3402 - accuracy: 0.6667 - val_loss: 6.3429e-31 - val_accuracy: 1.0000\n",
      "Epoch 3/15\n",
      "1/1 [==============================] - 0s 245ms/step - loss: 47.0082 - accuracy: 0.3333 - val_loss: 20.6647 - val_accuracy: 0.0000e+00\n",
      "Epoch 4/15\n",
      "1/1 [==============================] - 0s 250ms/step - loss: 35.3731 - accuracy: 0.6667 - val_loss: 0.0000e+00 - val_accuracy: 1.0000\n",
      "Epoch 5/15\n",
      "1/1 [==============================] - 0s 229ms/step - loss: 236.9287 - accuracy: 0.3333 - val_loss: 0.0075 - val_accuracy: 1.0000\n",
      "Epoch 6/15\n",
      "1/1 [==============================] - 0s 231ms/step - loss: 7.4676 - accuracy: 0.0000e+00 - val_loss: 165.1230 - val_accuracy: 0.0000e+00\n",
      "Epoch 7/15\n",
      "1/1 [==============================] - 0s 257ms/step - loss: 106.6015 - accuracy: 0.6667 - val_loss: 1.9522e-28 - val_accuracy: 1.0000\n"
     ]
    },
    {
     "data": {
      "image/png": "[encoded data removed]",
      "text/plain": [
       "<Figure size 1500x500 with 2 Axes>"
      ]
     },
     "metadata": {},
     "output_type": "display_data"
    },
    {
     "name": "stderr",
     "output_type": "stream",
     "text": [
      "/home/jfalck/PycharmProjects/drawinganalyses/venv/lib/python3.10/site-packages/keras/src/engine/training.py:3000: UserWarning: You are saving your model as an HDF5 file via `model.save()`. This file format is considered legacy. We recommend using instead the native Keras format, e.g. `model.save('my_model.keras')`.\n",
      "  saving_api.save_model(\n"
     ]
    }
   ],
   "source": [
    "enfants = ['Crèche','PS','MS','GS','CE1','CE2','CM1','CM2']\n",
    "adultes = ['NOV','EXP']\n",
    "\n",
    "data_augmentation = tf.keras.Sequential(\n",
    "    [       tf.keras.layers.experimental.preprocessing.RandomFlip(\"horizontal\")\n",
    "    ]\n",
    ")\n",
    "\n",
    "scores = list()\n",
    "\n",
    "\n",
    "\n",
    "for i in range(len(enfants)-1):\n",
    "    enfants_groupe = enfants[i:i+2]\n",
    "    print('********************Loop running for ' + enfants_groupe[0] + enfants_groupe[1] + ' ********************')\n",
    "    \n",
    "    # si le code n'a pas encore tourné complètement pour ces catégories :\n",
    "    path_model= os.path.join(MODEL_DATA_DIR,str(enfants_groupe[0] + enfants_groupe[1]),str(enfants_groupe[0] + enfants_groupe[1] +'.h5'))\n",
    "    if not os.path.isfile(path_model):\n",
    "        # mise en forme des données :\n",
    "        groupes = {enfants_groupe[0]+enfants_groupe[1]:enfants_groupe, adultes[0]+adultes[1]:adultes}\n",
    "        drawings_new, labels_final, labels_names = preprocess_data(groupes)\n",
    "        drawings_new = np.reshape(drawings_new,(len(drawings_new),224,224,3))\n",
    "        for label_idx in range(len(labels_final)):\n",
    "            if labels_final[label_idx] != 'NOVEXP':\n",
    "                labels_final[label_idx] = '0' + labels_final[label_idx]\n",
    "            else:\n",
    "                labels_final[label_idx] = '1' + labels_final[label_idx]\n",
    "        le = LabelEncoder()\n",
    "        labels_final = le.fit_transform(labels_final)\n",
    "        X_train, X_val, Y_train, Y_val = train_test_split(drawings_new,labels_final, test_size = 0.2, random_state = 42)\n",
    "        \n",
    "        # optimisation bayésienne\n",
    "        class MyHyperModel(kt.HyperModel):\n",
    "            def model_builder(self,hp):\n",
    "                '''\n",
    "            Args:\n",
    "            hp - Keras tuner object\n",
    "                '''\n",
    "                batch_size=hp.Choice(\"batch_size\", [16, 32, 64])\n",
    "                # 3 possibilités pour pool à partir de VGG : avg, max, None\n",
    "                pool_value = hp.Choice('pool_value',values=['avg','max','None'])\n",
    "                if pool_value == 'None': # si None, il faut le type None\n",
    "                    pool_value = None\n",
    "\n",
    "                inputs = tf.keras.Input(shape=(224,224,3))\n",
    "                inputs = data_augmentation(inputs) \n",
    "                x = keras.applications.vgg19.VGG19(\n",
    "                input_tensor=inputs, \n",
    "                include_top=False,\n",
    "                pooling=pool_value,\n",
    "                weights='imagenet'\n",
    "                )\n",
    "\n",
    "                x.trainable = False\n",
    "                x = Flatten()(x.output)\n",
    "                hp_dropout = hp.Float('dropout', min_value=0, max_value=0.4, step=0.1)\n",
    "                x = Dropout(hp_dropout)(x)\n",
    "                # Tune the number of layers\n",
    "                nb_layers = hp.Int(\"num_layers\", 1, 3)\n",
    "                BatchNorm = hp.Choice('BatchNorm',[True,False])\n",
    "                for num_layer in range(nb_layers):\n",
    "                    # Tune the number of neurons in each layer\n",
    "                    hp_units = hp.Int(f'units_{num_layer}', min_value=32, max_value=512, step=32)  \n",
    "                    x = Dense(hp_units)(x)\n",
    "                    if num_layer==0:\n",
    "                        with hp.conditional_scope(\"BatchNorm\", [True]):\n",
    "                            if BatchNorm == True:\n",
    "                                x = BatchNormalization()(x)\n",
    "                    x = Activation('relu')(x)\n",
    "                outputs = Dense(1, activation='sigmoid')(x)\n",
    "                model = Model(inputs,outputs)\n",
    "                learning_rate = hp.Float(\"lr\", min_value=1e-5, max_value=1e-1, sampling=\"log\")\n",
    "                model.compile(loss='binary_crossentropy',\n",
    "                      optimizer=optimizers.SGD(learning_rate),\n",
    "                      metrics=['accuracy'])\n",
    "                return model\n",
    "\n",
    "            def fit(self, hp, model, *args, **kwargs):\n",
    "                return model.fit(\n",
    "                    *args,\n",
    "                    batch_size=self.batch_size,\n",
    "                    **kwargs,\n",
    "                )\n",
    "\n",
    "        # Instantiate the tuner\n",
    "        tuner = kt.tuners.BayesianOptimization(\n",
    "        MyHyperModel().model_builder,\n",
    "        objective = 'val_loss',\n",
    "        max_trials = 50, ###########################\n",
    "        directory = os.path.join(MODEL_DATA_DIR),\n",
    "    #        overwrite = True,\n",
    "        project_name = str(enfants_groupe[0] + enfants_groupe[1]))\n",
    "\n",
    "        tuner.search_space_summary()\n",
    "        early_stop_tuner = tf.keras.callbacks.EarlyStopping(\n",
    "                                monitor = 'val_loss',\n",
    "                                patience = 3, ##############################################\n",
    "                                restore_best_weights = True)\n",
    "        \n",
    "        \n",
    "        class_weights = class_weight.compute_class_weight(\n",
    "                                class_weight = \"balanced\",\n",
    "                                classes = np.unique(Y_train),\n",
    "                                y = Y_train                                                    \n",
    "                            )\n",
    "        class_weight_dict = dict(enumerate(class_weights))\n",
    "        tuner.search(X_train, Y_train, epochs=15, ##########################\n",
    "                     validation_data=(X_val, Y_val), verbose=2, callbacks = [early_stop_tuner],\n",
    "                     class_weight = class_weight_dict) \n",
    "        # Get the top 2 hyperparameters.\n",
    "        #best_hps = tuner.get_best_hyperparameters(5)\n",
    "        best_hps = tuner.get_best_hyperparameters()[0]\n",
    "        print(best_hps.values)\n",
    "        # Build the model with the best hp.\n",
    "        best_model = MyHyperModel().model_builder(best_hps)\n",
    "        early_stop = tf.keras.callbacks.EarlyStopping(\n",
    "                                monitor = 'val_loss',\n",
    "                                patience = 3, ##############################################\n",
    "                                restore_best_weights = True)\n",
    "\n",
    "        history = best_model.fit(X_train,Y_train, epochs=15, validation_data=(X_val,Y_val), ############################\n",
    "                        callbacks = [early_stop], class_weight = class_weight_dict)\n",
    "        plot_model_history(history)\n",
    "\n",
    "        epoch_val_loss_min = np.argmin(history.history['val_loss'])\n",
    "        val_max = history.history['val_accuracy'][epoch_val_loss_min]\n",
    "        path_model= os.path.join(MODEL_DATA_DIR,str(enfants_groupe[0] + enfants_groupe[1]),'models_scores.txt')\n",
    "        with open(path_model, 'a') as f:\n",
    "            f.writelines('accuracy : ' + str(val_max) + '\\n' + str(best_hps.values))\n",
    "        scores.append(val_max)\n",
    "        best_model.save(os.path.join(MODEL_DATA_DIR, \n",
    "                                     str(enfants_groupe[0] + enfants_groupe[1]),\n",
    "                                     str(enfants_groupe[0] + enfants_groupe[1]+ '.h5')))\n",
    "    for folder in os.listdir(os.path.join(MODEL_DATA_DIR ,str(enfants_groupe[0] + enfants_groupe[1]))):\n",
    "        if 'trial' in folder:\n",
    "            shutil.rmtree(os.path.join(MODEL_DATA_DIR,str(enfants_groupe[0] + enfants_groupe[1]),folder))"
   ]
  },
  {
   "cell_type": "code",
   "execution_count": 10,
   "id": "c2d10654-f958-445b-8359-18afb581de19",
   "metadata": {},
   "outputs": [],
   "source": [
    "enfants = ['Crèche','PS','MS','GS','CE1','CE2','CM1','CM2']\n",
    "\n",
    "categories_couple = []\n",
    "for i in range(len(enfants)-1):\n",
    "    enfants_groupe = enfants[i:i+2]\n",
    "    categories_couple.append(enfants_groupe[0] + enfants_groupe[1])"
   ]
  },
  {
   "cell_type": "code",
   "execution_count": 11,
   "id": "0430a8db-5c32-431b-bb27-2950c3bfa95a",
   "metadata": {},
   "outputs": [
    {
     "name": "stdout",
     "output_type": "stream",
     "text": [
      "['accuracy : 1.0\\n', \"{'batch_size': 32, 'pool_value': 'max', 'dropout': 0.0, 'num_layers': 1, 'BatchNorm': 0, 'units_0': 64, 'lr': 0.05697016903103457, 'units_1': 480, 'units_2': 256}\"]\n",
      "['accuracy : 1.0\\n', \"{'batch_size': 64, 'pool_value': 'None', 'dropout': 0.30000000000000004, 'num_layers': 1, 'BatchNorm': 0, 'units_0': 416, 'lr': 0.006596180810736199}\"]\n",
      "['accuracy : 1.0\\n', \"{'batch_size': 64, 'pool_value': 'None', 'dropout': 0.1, 'num_layers': 2, 'BatchNorm': 0, 'units_0': 128, 'lr': 0.013774049532041123, 'units_1': 32}\"]\n",
      "['accuracy : 1.0\\n', \"{'batch_size': 64, 'pool_value': 'None', 'dropout': 0.2, 'num_layers': 2, 'BatchNorm': 0, 'units_0': 352, 'lr': 0.02548593086517296, 'units_1': 192, 'units_2': 352}\"]\n",
      "['accuracy : 1.0\\n', \"{'batch_size': 16, 'pool_value': 'max', 'dropout': 0.30000000000000004, 'num_layers': 3, 'BatchNorm': 0, 'units_0': 256, 'lr': 0.01634224658884753, 'units_1': 352, 'units_2': 320}\"]\n",
      "['accuracy : 1.0\\n', \"{'batch_size': 16, 'pool_value': 'None', 'dropout': 0.1, 'num_layers': 2, 'BatchNorm': 0, 'units_0': 160, 'lr': 0.0838883648328671, 'units_1': 32}\"]\n",
      "['accuracy : 1.0\\n', \"{'batch_size': 32, 'pool_value': 'max', 'dropout': 0.0, 'num_layers': 3, 'BatchNorm': 0, 'units_0': 320, 'lr': 0.00902203935993642, 'units_1': 224, 'units_2': 416}\"]\n"
     ]
    }
   ],
   "source": [
    "scores = []\n",
    "for categorie_couple in categories_couple:\n",
    "    with open(os.path.join(MODEL_DATA_DIR, categorie_couple,'models_scores.txt')) as f:\n",
    "        lines = f.readlines()\n",
    "        print(lines)\n",
    "    scores.append(float(lines[0].split(':')[1]))\n",
    "    "
   ]
  },
  {
   "cell_type": "code",
   "execution_count": 12,
   "id": "ede99e10",
   "metadata": {},
   "outputs": [
    {
     "name": "stdout",
     "output_type": "stream",
     "text": [
      "[1.0, 1.0, 1.0, 1.0, 1.0, 1.0, 1.0]\n"
     ]
    }
   ],
   "source": [
    "print(scores)"
   ]
  },
  {
   "cell_type": "code",
   "execution_count": 13,
   "id": "cc19abca-f143-4e6d-9340-d6f05db30c48",
   "metadata": {},
   "outputs": [
    {
     "data": {
      "text/plain": [
       "[<matplotlib.lines.Line2D at 0x7fcd50ee5ff0>]"
      ]
     },
     "execution_count": 13,
     "metadata": {},
     "output_type": "execute_result"
    },
    {
     "data": {
      "image/png": "[encoded data removed]",
      "text/plain": [
       "<Figure size 640x480 with 1 Axes>"
      ]
     },
     "metadata": {},
     "output_type": "display_data"
    }
   ],
   "source": [
    "plt.xticks(list(range(len(enfants)-1)), categories_couple,\n",
    "       rotation=20)\n",
    "plt.plot(scores)"
   ]
  },
  {
   "cell_type": "code",
   "execution_count": null,
   "id": "c5ba3188",
   "metadata": {},
   "outputs": [],
   "source": []
  }
 ],
 "metadata": {
  "kernelspec": {
   "display_name": "local-venv",
   "language": "python",
   "name": "local-venv"
  },
  "language_info": {
   "codemirror_mode": {
    "name": "ipython",
    "version": 3
   },
   "file_extension": ".py",
   "mimetype": "text/x-python",
   "name": "python",
   "nbconvert_exporter": "python",
   "pygments_lexer": "ipython3",
   "version": "3.10.13"
  }
 },
 "nbformat": 4,
 "nbformat_minor": 5
}
